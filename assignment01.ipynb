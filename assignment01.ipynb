{
  "nbformat": 4,
  "nbformat_minor": 0,
  "metadata": {
    "colab": {
      "provenance": [],
      "include_colab_link": true
    },
    "kernelspec": {
      "name": "python3",
      "display_name": "Python 3"
    },
    "language_info": {
      "name": "python"
    }
  },
  "cells": [
    {
      "cell_type": "markdown",
      "metadata": {
        "id": "view-in-github",
        "colab_type": "text"
      },
      "source": [
        "<a href=\"https://colab.research.google.com/github/PosgradoMNA/actividades-del-projecto-equipo55-alex-edgar/blob/main/assignment01.ipynb\" target=\"_parent\"><img src=\"https://colab.research.google.com/assets/colab-badge.svg\" alt=\"Open In Colab\"/></a>"
      ]
    },
    {
      "cell_type": "code",
      "execution_count": null,
      "metadata": {
        "id": "LzUSMM79NR9P",
        "outputId": "0e6cb421-1096-426a-b31a-f61d059def81",
        "colab": {
          "base_uri": "https://localhost:8080/"
        }
      },
      "outputs": [
        {
          "output_type": "stream",
          "name": "stdout",
          "text": [
            "assignment01 for GitJobish03 and edited in git, and 18\n"
          ]
        }
      ],
      "source": [
        "print('assignment01 for GitJobish03 and edited in git, and 18')"
      ]
    },
    {
      "cell_type": "markdown",
      "source": [
        "Instrucciones \n",
        "1. Buscar en Internet un conjunto de datos que utilizará a lo largo del módulo de aprendizaje.\n",
        "\n",
        "El conjunto de datos puede provenir de cualquier portal de Internet que maneje datos abiertos o puede obtenerse de una empresa u organización.\n",
        "El conjunto de datos puede ser sobre cualquier tema, pero cuidando que esté relacionado con un problema social, ambiental o económico.\n",
        "\n",
        "2. Redacción de una página, en jupyter notebook, como máximo que incluya lo siguiente:\n",
        "\n",
        "El nombre que caracteriza el conjunto de datos.\n",
        "La organización que lo generó.\n",
        "Incluya un enlace de Internet donde se puedan descargar el base de datos en línea\n",
        "Describe el conjunto de datos. ¿Qué datos contiene?\n",
        "¿Cuáles son algunas de las preguntas de investigación que podría responder con estos datos? Enumere al menos OCHO (no responda las preguntas).\n",
        "¿Qué actor (empresa, sector de la sociedad, organismo descentralizado, gobierno, etc.) estaría interesado en las preguntas mencionadas que identificó?\n",
        "\n",
        "Algunos aspectos a tener en cuenta para la selección del conjunto de datos:\n",
        "\n",
        "Asegúrese de que el conjunto de datos sea adecuado para permitir la realización de modelos y análisis estadísticos.\n",
        "En cuanto a la cantidad de datos, el conjunto de datos debe ser del orden de miles de filas.\n",
        "Sin embargo, para esta unidad de entrenamiento, evite que el conjunto de datos sea demasiado grande.\n",
        "Pero mientras podamos realizar análisis en el conjunto de datos, estaremos bien.\n",
        "Algunas herramientas solo permiten un máximo de un millón de registros, pero los conjuntos de datos del orden de millones de filas ralentizarán la computadora.\n",
        "Es probable que a medida que avance en el tema, descubra que el conjunto de datos no es lo suficientemente detallado.\n",
        "En este caso, podrá complementarlo con conjuntos de datos relacionados adicionales.\n",
        "Por ejemplo, si el conjunto de datos es sobre la demanda de un hotel, se puede complementar con datos como el día de la semana y datos meteorológicos como la temperatura y la humedad relativa.\n",
        "El conjunto de datos original que encontró debe estar en formato de hoja de cálculo (XLS, XLSX, CSV)."
      ],
      "metadata": {
        "id": "mkguxLqeL0nu"
      }
    },
    {
      "cell_type": "markdown",
      "source": [
        "#Integrantes del equipo\n",
        "\n",
        "##Edgar López Valdés A01339939"
      ],
      "metadata": {
        "id": "293ShhoGStog"
      }
    },
    {
      "cell_type": "markdown",
      "source": [
        "#Conjunto de datos\n",
        "\n",
        "## Nombre = Crime in Mexico\n",
        "## Obtenido de = https://www.kaggle.com/datasets/theswarlos/crime-in-mexico-english/metadata\n",
        "\n",
        "El set de datos fue creado por el usuario The Swarlos a partir de un query realizado a https://www.gob.mx/sesnsp/acciones-y-programas/datos-abiertos-de-incidencia-delictiva la información es recopilada por el gobierno de México como reporte de inicidencia delictiva. Contiene información de 2015 a 2020.\n",
        "\n",
        "Los datos vienen subdividos por mes, por entidad, por delito o el conjunto completo. El conjunto de datos contiene **1832391** registros, pero para propósito del proyecto se trabajará únicamente con los datos más recientes.\n",
        "\n",
        "**¿Qué datos contiene?**\n",
        "\n",
        "\n",
        "\n",
        "\n",
        "\n",
        "**¿Cuáles son algunas de las preguntas de investigación que podría responder con estos datos?**\n",
        "\n",
        "\n",
        "\n",
        "*   List item\n",
        "*   List item\n",
        "*   List item\n",
        "*   List item\n",
        "*   List item\n",
        "*   List item\n",
        "*   List item\n",
        "*   List item\n",
        "\n",
        " \n",
        " **Actores Interesado**"
      ],
      "metadata": {
        "id": "SHQcBVGAMD10"
      }
    },
    {
      "cell_type": "markdown",
      "source": [],
      "metadata": {
        "id": "B5jNrUetSpPR"
      }
    }
  ]
}