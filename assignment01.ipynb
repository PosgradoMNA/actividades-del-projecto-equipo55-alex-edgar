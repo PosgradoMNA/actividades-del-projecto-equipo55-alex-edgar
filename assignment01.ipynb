{
  "nbformat": 4,
  "nbformat_minor": 0,
  "metadata": {
    "colab": {
      "provenance": [],
      "collapsed_sections": [],
      "include_colab_link": true
    },
    "kernelspec": {
      "name": "python3",
      "display_name": "Python 3"
    },
    "language_info": {
      "name": "python"
    }
  },
  "cells": [
    {
      "cell_type": "markdown",
      "metadata": {
        "id": "view-in-github",
        "colab_type": "text"
      },
      "source": [
        "<a href=\"https://colab.research.google.com/github/PosgradoMNA/actividades-del-projecto-equipo55-alex-edgar/blob/main/assignment01.ipynb\" target=\"_parent\"><img src=\"https://colab.research.google.com/assets/colab-badge.svg\" alt=\"Open In Colab\"/></a>"
      ]
    },
    {
      "cell_type": "code",
      "execution_count": null,
      "metadata": {
        "id": "LzUSMM79NR9P",
        "outputId": "0e6cb421-1096-426a-b31a-f61d059def81",
        "colab": {
          "base_uri": "https://localhost:8080/"
        }
      },
      "outputs": [
        {
          "output_type": "stream",
          "name": "stdout",
          "text": [
            "assignment01 for GitJobish03 and edited in git, and 18\n"
          ]
        }
      ],
      "source": [
        "print('assignment01 for GitJobish03 and edited in git, and 18')"
      ]
    },
    {
      "cell_type": "markdown",
      "source": [
        "#Integrantes del equipo\n",
        "\n",
        "##Edgar López Valdés A01339939\n",
        "##Alejandro Juárez Corona A01168444\n"
      ],
      "metadata": {
        "id": "293ShhoGStog"
      }
    },
    {
      "cell_type": "markdown",
      "source": [
        "#Conjunto de datos\n",
        "\n",
        "## Nombre = Crime in Mexico\n",
        "## Obtenido de = https://www.kaggle.com/datasets/theswarlos/crime-in-mexico-english/metadata\n",
        "\n",
        "El set de datos fue creado por el usuario The Swarlos a partir de un query realizado a https://www.gob.mx/sesnsp/acciones-y-programas/datos-abiertos-de-incidencia-delictiva la información es recopilada por el gobierno de México como reporte de inicidencia delictiva. Contiene información de 2015 a 2020.\n",
        "\n",
        "Los datos vienen subdividos por mes, por entidad, por delito o el conjunto completo. El conjunto de datos contiene **1832391** registros, pero para propósito del proyecto se trabajará únicamente con los datos más recientes.\n",
        "\n",
        "**¿Qué datos contiene?**\n",
        "\n",
        "El conjunto de datos contiene 25 columnas, de las cuales algunas están en español y otras en inglés, será necesario recortar las columnas duplicadas al trabajar en el proyecto. Entre los registros encontramos la fecha en que se cometió el delito, la entidad federativa, ciudad, tipo de delito, bien jurídico afectado, subtipo de delito y modalidad. Analizando esta información podemos inferir que tipo se cometen con más frecuencia, que estados son más violentos y que modalidades son comunes. Además de determinar si el crimen ha ido en aumento o no.\n",
        "\n",
        "\n",
        "**¿Cuáles son algunas de las preguntas de investigación que podría responder con estos datos?**\n",
        "\n",
        "\n",
        "\n",
        "1.   ¿Se puede esperar un aumento o caída en el nivel de crimen para los próximos años?\n",
        "2.   ¿Qué tipo de crimen es el más común para cada entidad federativa?\n",
        "3.   ¿En qué temporadas existen variaciones en el nivel de crimen y a qué se puede deber esto?\n",
        "4.   ¿Qué relación tiene la modalidad del delito con los bienes jurídicos afectados?\n",
        "5.   ¿Hay correlación entre la ubicación y los bienes jurídicos afectados?\n",
        "6.   Considerando que podemos cruzar la información con escolaridad por entidad federativa: ¿Hay alguna relación entre nivel de estudios promedio y cantidad de delitos cometidos?\n",
        "7.   Considerando que podemos cruzar la información con datos de clima: ¿Afectan los fenómenos meteorológicos los delitos cometidos por homicidio culposo en accidentes de tránsito?\n",
        "8.   ¿Los robos de vehículo automotor son más comunes estando en el vehículo (ocurre con violencia) o al no tenerlo a la vista (sin violencia)?\n",
        "\n",
        "\n",
        " \n",
        " **Actores Interesados**\n",
        "\n",
        "Basandonos en las preguntas propuestas podemos identificar varios actores interesados en responderlas, ya sea para beneficio público o de particulares. Enlistamos los posibles actores interesados por pregunta:\n",
        "\n",
        "1.   Público en general y gobierno.\n",
        "2.   Público en general y gobierno.\n",
        "3.   Público en general y gobierno.\n",
        "4.   Gobierno, Compañías de seguros.\n",
        "5.   Gobierno, Compañías de seguros.\n",
        "6.   Gobierno, entidades educativas públicas y privadas.\n",
        "7.   Público en general, gobierno.\n",
        "8.   Público en general, gobierno, Compañías de seguros"
      ],
      "metadata": {
        "id": "SHQcBVGAMD10"
      }
    },
    {
      "cell_type": "code",
      "source": [],
      "metadata": {
        "id": "XaEVtIA4YMK2"
      },
      "execution_count": null,
      "outputs": []
    }
  ]
}